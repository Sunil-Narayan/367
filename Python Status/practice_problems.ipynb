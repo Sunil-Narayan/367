{
 "cells": [
  {
   "cell_type": "code",
   "execution_count": null,
   "id": "different-terror",
   "metadata": {},
   "outputs": [],
   "source": [
    "#Write function that reverses a list, preferably in place."
   ]
  },
  {
   "cell_type": "code",
   "execution_count": 23,
   "id": "frozen-county",
   "metadata": {},
   "outputs": [
    {
     "name": "stdout",
     "output_type": "stream",
     "text": [
      "[7, 6, 5, 4, 3, 2, 1, 0]\n"
     ]
    }
   ],
   "source": [
    "def reverseFunction(lst):\n",
    "    counter = 0\n",
    "    while (counter < len(lst)/2):\n",
    "        initialPlace = counter\n",
    "        temp = lst[counter]\n",
    "        lst[initialPlace] = lst[len(lst) - initialPlace - 1]\n",
    "        lst[len(lst) - initialPlace - 1] = temp\n",
    "        counter+=1\n",
    "    return lst\n",
    "\n",
    "test = reverseFunction([0,1,2,3,4,5,6,7])\n",
    "print(test)"
   ]
  },
  {
   "cell_type": "code",
   "execution_count": 24,
   "id": "partial-outreach",
   "metadata": {},
   "outputs": [],
   "source": [
    "#Write a function that takes a list of strings an prints them, one per line, in a rectangular frame."
   ]
  },
  {
   "cell_type": "code",
   "execution_count": null,
   "id": "divine-continent",
   "metadata": {},
   "outputs": [],
   "source": [
    "def printInFrame(lst):\n",
    "    "
   ]
  },
  {
   "cell_type": "code",
   "execution_count": 7,
   "id": "endangered-battlefield",
   "metadata": {},
   "outputs": [],
   "source": [
    "#Write a program that automatically converts English text to Morse code and vice versa."
   ]
  }
 ],
 "metadata": {
  "kernelspec": {
   "display_name": "Python 3",
   "language": "python",
   "name": "python3"
  },
  "language_info": {
   "codemirror_mode": {
    "name": "ipython",
    "version": 3
   },
   "file_extension": ".py",
   "mimetype": "text/x-python",
   "name": "python",
   "nbconvert_exporter": "python",
   "pygments_lexer": "ipython3",
   "version": "3.9.1"
  }
 },
 "nbformat": 4,
 "nbformat_minor": 5
}
