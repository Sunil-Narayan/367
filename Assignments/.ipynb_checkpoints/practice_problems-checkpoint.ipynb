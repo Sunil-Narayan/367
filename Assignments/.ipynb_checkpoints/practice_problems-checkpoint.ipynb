{
 "cells": [
  {
   "cell_type": "code",
   "execution_count": null,
   "id": "different-terror",
   "metadata": {},
   "outputs": [],
   "source": [
    "#Write function that reverses a list, preferably in place."
   ]
  },
  {
   "cell_type": "code",
   "execution_count": 23,
   "id": "frozen-county",
   "metadata": {},
   "outputs": [
    {
     "name": "stdout",
     "output_type": "stream",
     "text": [
      "[7, 6, 5, 4, 3, 2, 1, 0]\n"
     ]
    }
   ],
   "source": [
    "def reverseFunction(lst):\n",
    "    counter = 0\n",
    "    while (counter < len(lst)/2):\n",
    "        initialPlace = counter\n",
    "        temp = lst[counter]\n",
    "        lst[initialPlace] = lst[len(lst) - initialPlace - 1]\n",
    "        lst[len(lst) - initialPlace - 1] = temp\n",
    "        counter+=1\n",
    "    return lst\n",
    "\n",
    "test = reverseFunction([0,1,2,3,4,5,6,7])\n",
    "print(test)"
   ]
  },
  {
   "cell_type": "code",
   "execution_count": 24,
   "id": "partial-outreach",
   "metadata": {},
   "outputs": [],
   "source": [
    "#Write a function that takes a list of strings an prints them, one per line, in a rectangular frame."
   ]
  },
  {
   "cell_type": "code",
   "execution_count": 8,
   "id": "divine-continent",
   "metadata": {},
   "outputs": [
    {
     "name": "stdout",
     "output_type": "stream",
     "text": [
      "*********\n",
      "*hi     *\n",
      "*my     *\n",
      "*name   *\n",
      "*is     *\n",
      "*Sunil  *\n",
      "*and    *\n",
      "*I      *\n",
      "*approve*\n",
      "*this   *\n",
      "*message*\n",
      "*********\n"
     ]
    }
   ],
   "source": [
    "def printInFrame(lst):\n",
    "    maxVal = 0\n",
    "    outprint = ''\n",
    "    for x in lst:\n",
    "        counter1 = 0\n",
    "        for l in x:\n",
    "            counter1+=1\n",
    "        if (counter1 > maxVal):\n",
    "            maxVal = counter1\n",
    "    for x in range (0, maxVal+2):\n",
    "        outprint = outprint + \"*\"\n",
    "    print(outprint)\n",
    "    for x in lst:\n",
    "        lineprint = \"*\"\n",
    "        lineprint = lineprint + x\n",
    "        for x in range (0, maxVal-len(x)):\n",
    "            lineprint = lineprint  + \" \"\n",
    "        lineprint = lineprint + \"*\"\n",
    "        print(lineprint)\n",
    "    print (outprint)\n",
    "test = printInFrame([\"hi\", \"my\", \"name\", \"is\", \"Sunil\", \"and\", \"I\", \"approve\", \"this\", \"message\"])"
   ]
  },
  {
   "cell_type": "code",
   "execution_count": 7,
   "id": "endangered-battlefield",
   "metadata": {},
   "outputs": [],
   "source": [
    "#Write a program that automatically converts English text to Morse code and vice versa."
   ]
  },
  {
   "cell_type": "code",
   "execution_count": null,
   "id": "separated-taylor",
   "metadata": {},
   "outputs": [],
   "source": []
  },
  {
   "cell_type": "code",
   "execution_count": null,
   "id": "alike-profile",
   "metadata": {},
   "outputs": [],
   "source": [
    "#Write a Python program to convert a tuple to a dictionary"
   ]
  },
  {
   "cell_type": "code",
   "execution_count": 6,
   "id": "revised-probability",
   "metadata": {},
   "outputs": [
    {
     "name": "stdout",
     "output_type": "stream",
     "text": [
      "{'MIN': 'Vikings', 'CHI': 'Bears', 'GB': 'Packers', 'DET': 'Lions'}\n",
      "Bears\n"
     ]
    }
   ],
   "source": [
    "def tupleToDict(tup):\n",
    "    newDict = {}\n",
    "    for x in tup :\n",
    "        newDict[x[0]] = x[1]\n",
    "    return newDict\n",
    "\n",
    "test = tupleToDict(((\"MIN\",\"Vikings\"), (\"CHI\", \"Bears\"), (\"GB\", \"Packers\"), (\"DET\", \"Lions\")))\n",
    "print(test)\n",
    "print(test[\"CHI\"])"
   ]
  },
  {
   "cell_type": "code",
   "execution_count": null,
   "id": "signal-context",
   "metadata": {},
   "outputs": [],
   "source": [
    "#Write a Python program to print a tuple with string formatting"
   ]
  },
  {
   "cell_type": "code",
   "execution_count": 8,
   "id": "heard-bunch",
   "metadata": {},
   "outputs": [
    {
     "name": "stdout",
     "output_type": "stream",
     "text": [
      "This is a string: (5, 7, 24)\n"
     ]
    }
   ],
   "source": [
    "def tupToString(tup):\n",
    "    return \"This is a string: \" + str(tup)\n",
    "\n",
    "test = tupToString((5, 7, 24))\n",
    "print(test)"
   ]
  },
  {
   "cell_type": "code",
   "execution_count": null,
   "id": "ceramic-preliminary",
   "metadata": {},
   "outputs": [],
   "source": []
  }
 ],
 "metadata": {
  "kernelspec": {
   "display_name": "Python 3",
   "language": "python",
   "name": "python3"
  },
  "language_info": {
   "codemirror_mode": {
    "name": "ipython",
    "version": 3
   },
   "file_extension": ".py",
   "mimetype": "text/x-python",
   "name": "python",
   "nbconvert_exporter": "python",
   "pygments_lexer": "ipython3",
   "version": "3.9.1"
  }
 },
 "nbformat": 4,
 "nbformat_minor": 5
}
