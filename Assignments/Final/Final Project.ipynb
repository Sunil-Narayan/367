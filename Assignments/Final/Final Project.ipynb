{
 "cells": [
  {
   "cell_type": "markdown",
   "id": "earlier-structure",
   "metadata": {},
   "source": [
    "# Analyzing Optimal Economic Structures for Positive Health Outcomes in High GDP-Per-Capita Countries"
   ]
  },
  {
   "cell_type": "markdown",
   "id": "seventh-evolution",
   "metadata": {},
   "source": [
    "### Sunil Narayan\n",
    "\n",
    "### Background:\n",
    "One of the most contentious topics in the US and around the world is how to provide healthcare to the people who need it. Countries tend to vary in what structure they choose for providing healthcare to their population. In particular, countries very along how much of their GDP they spend on Healthcare, and what percentage of that spending comes from the government versus private individuals. [Previous studies](https://link.springer.com/article/10.1007/s10198-005-0336-8) have found that increasing spending may improve outcomes for infants, but this advantage likely fades overtime. In this analysis, I want to measure the spending habits of countries with a high GDP-per-capita and see if there is a correlation between their Healthcare structures and their reletive probability of death as infants, children, and adults.\n",
    "\n",
    "Finding the most efficent way to structure healthcare is an important challenge to everyone. All of our lives are contingent on our health, and providing for the health of its people is of critical importance to any modern government. Finding the most efficent way to spend money to increase positive health outcomes can yeild insight as to how each govenment can take on the challenge of maintaining the health of its population with limited resources. "
   ]
  },
  {
   "cell_type": "code",
   "execution_count": null,
   "id": "advance-moscow",
   "metadata": {},
   "outputs": [],
   "source": []
  }
 ],
 "metadata": {
  "kernelspec": {
   "display_name": "Python 3",
   "language": "python",
   "name": "python3"
  },
  "language_info": {
   "codemirror_mode": {
    "name": "ipython",
    "version": 3
   },
   "file_extension": ".py",
   "mimetype": "text/x-python",
   "name": "python",
   "nbconvert_exporter": "python",
   "pygments_lexer": "ipython3",
   "version": "3.9.1"
  }
 },
 "nbformat": 4,
 "nbformat_minor": 5
}
