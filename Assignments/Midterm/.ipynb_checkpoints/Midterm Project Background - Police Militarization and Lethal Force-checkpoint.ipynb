{
 "cells": [
  {
   "cell_type": "markdown",
   "id": "living-gibraltar",
   "metadata": {},
   "source": [
    "# Midterm Project Background - Police Militarization and Lethal Force\n",
    "## Sunil Narayan\n",
    "\n",
    "When reading the details for this project, one of the first societal problems to jump into my head was continued police militarization and the negative effects it may be having on our communities. \n",
    "\n",
    "Over the past year, one dramatic event which stands out is the outpouring of support for the Black Lives Matter movement and its calls to \"defund the police.\" In specific, one possible problem with police funding is the increased militarization of the American police force. Militarization is the process of moving towards a more militaristic state, through programs such as the National Defense Authorization Act, which allows the Department of Defence to transfer military weapons to local police forces to deter drug crime. Arguments for the militarization claim that it slows down crime. Arguments against the militarization claim that having access to such hardware makes police over-aggressive, resulting in unnecessary uses of lethal force. \n",
    "\n",
    "I want to do an analysis of the outcomes of police militarization composed of 3 parts: \n",
    "(1) The rate of lethal force employed by US police forces over time\n",
    "(2) The change over time in the rate of crime\n",
    "(3) The militarization of American police forces\n",
    "\n",
    "The idea here is to see if the policy of police adopting military hardware is an effective means of maintaining a safe and just society. The primary metrics used are the number of crimes committed and the number of incidents of lethal force. The research questions are the following \n",
    "\n",
    "1. How has the use of lethal force by the police changed over time?\n",
    "2. How has the crime rate changed over time?\n",
    "3. Has the increase in funding for military weapons and training correlated with a change in either of these trends?\n",
    "\n",
    "I believe that these questions are important because they allow us to better understand the forces which shape our country, and because gaining insight into this issue may better help us design future policies. \n",
    "\n",
    "The ethical concerns relating to this problem are considerable. First, this is a situation with life-or-death consequences, and one in which there are a large number of variables which are constantly changing. Even if I were able to maximize the utility of the few data sets which I can find, it would only provide some context into the problem, and would not be enough to make any sweeping generalizations as to solutions to the complicated issue of police violence. Secondly, it is very hard to quantify \"police militarization\", which is more of a sociological term than a scientific one. Because of this, the measure of militarization will likely have to be based on police surveys, budget changes, and legislation, none of which can provide the type of hard data required to draw statistically significant conclusions about the causal effect of militarization on police violence. \n",
    "\n",
    "\n",
    "Substantive data set describing the use of police violence over the past 20 years.  \n",
    "[Lethal force dataset](https://docs.google.com/spreadsheets/d/1dKmaV_JiWcG8XBoRgP8b4e9Eopkpgt7FL7nyspvzAsE/edit#gid=0) \n",
    "\n",
    "National crime rate data set.  \n",
    "[Violent crime dataset](https://www.kaggle.com/marshallproject/crime-rates)\n",
    "\n"
   ]
  }
 ],
 "metadata": {
  "kernelspec": {
   "display_name": "Python 3",
   "language": "python",
   "name": "python3"
  },
  "language_info": {
   "codemirror_mode": {
    "name": "ipython",
    "version": 3
   },
   "file_extension": ".py",
   "mimetype": "text/x-python",
   "name": "python",
   "nbconvert_exporter": "python",
   "pygments_lexer": "ipython3",
   "version": "3.9.1"
  }
 },
 "nbformat": 4,
 "nbformat_minor": 5
}
